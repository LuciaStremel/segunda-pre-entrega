{
  "cells": [
    {
      "cell_type": "markdown",
      "metadata": {
        "id": "view-in-github",
        "colab_type": "text"
      },
      "source": [
        "<a href=\"https://colab.research.google.com/github/LuciaStremel/segunda-pre-entrega/blob/main/Grupo_4_Health_Analysis_%26_Prediction_Entrega.ipynb\" target=\"_parent\"><img src=\"https://colab.research.google.com/assets/colab-badge.svg\" alt=\"Open In Colab\"/></a>"
      ]
    },
    {
      "cell_type": "markdown",
      "id": "686aa3a9-7e82-415c-ac36-8310a14fa1f8",
      "metadata": {
        "id": "686aa3a9-7e82-415c-ac36-8310a14fa1f8"
      },
      "source": [
        "# Grupo 4 🐼\n",
        "## (Avalos - Espinoza - Garay - Humbert  - Stremel)\n",
        "### Objetivo: analizar el impacto de factores socioeconómicos y de estilo de vida en el riesgo de infarto, y cómo estos factores pueden variar según diferentes regiones geográficas y demográficas.\n",
        "#### Subobjetivos\n",
        "* **Identificar factores de riesgo clave**: Determinar cuáles de las variables (como diabetes, historial familiar, tabaquismo, obesidad, etc.) tienen una mayor influencia en el riesgo de infarto.\n",
        "* **Evaluar diferencias regionales**: Investigar cómo varían estos factores de riesgo según el país, continente y hemisferio.\n",
        "* **Impacto socioeconómico**: Analizar la relación entre el nivel de ingresos y el riesgo de infarto.\n",
        "* **Estilo de vida y salud**: Evaluar cómo las variables relacionadas con el estilo de vida (ejercicio, consumo de alcohol, dieta, horas de sueño, etc.) afectan el riesgo de infarto.\n",
        "* **Desigualdades de salud**: Identificar posibles desigualdades en el riesgo de infarto según el sexo y la edad."
      ]
    },
    {
      "cell_type": "code",
      "execution_count": null,
      "id": "c89a98cd-62e6-477d-b767-3212c25f3790",
      "metadata": {
        "id": "c89a98cd-62e6-477d-b767-3212c25f3790"
      },
      "outputs": [],
      "source": [
        "#importamos las librerias\n",
        "import pandas as pd\n",
        "import numpy as np\n",
        "import matplotlib.pyplot as plt\n",
        "import seaborn as sns"
      ]
    },
    {
      "cell_type": "code",
      "execution_count": null,
      "id": "90e2b041-3573-4e6a-8443-7413c1d3fef5",
      "metadata": {
        "id": "90e2b041-3573-4e6a-8443-7413c1d3fef5"
      },
      "outputs": [],
      "source": [
        "#importo el dataset > heart_attack_prediction_dataset\n",
        "df = pd.read_csv('heart_attack_prediction_dataset.csv', delimiter=',')"
      ]
    },
    {
      "cell_type": "code",
      "execution_count": null,
      "id": "0d6da459-1cef-4f59-858d-2afb33cfe31c",
      "metadata": {
        "id": "0d6da459-1cef-4f59-858d-2afb33cfe31c"
      },
      "outputs": [],
      "source": [
        "hap = df"
      ]
    },
    {
      "cell_type": "code",
      "execution_count": null,
      "id": "a9136a45-3187-4dae-b5a5-dfdcd185a272",
      "metadata": {
        "colab": {
          "base_uri": "https://localhost:8080/",
          "height": 394
        },
        "id": "a9136a45-3187-4dae-b5a5-dfdcd185a272",
        "outputId": "b68b6773-1964-438c-c0a4-8bc9fec9f502"
      },
      "outputs": [
        {
          "output_type": "execute_result",
          "data": {
            "text/plain": [
              "  Patient ID  Age     Sex  Cholesterol Blood Pressure  Heart Rate  Diabetes  \\\n",
              "0    BMW7812   67    Male          208         158/88          72         0   \n",
              "1    CZE1114   21    Male          389         165/93          98         1   \n",
              "2    BNI9906   21  Female          324         174/99          72         1   \n",
              "3    JLN3497   84    Male          383        163/100          73         1   \n",
              "4    GFO8847   66    Male          318          91/88          93         1   \n",
              "\n",
              "   Family History  Smoking  Obesity  ...  Sedentary Hours Per Day  Income  \\\n",
              "0               0        1        0  ...                 6.615001  261404   \n",
              "1               1        1        1  ...                 4.963459  285768   \n",
              "2               0        0        0  ...                 9.463426  235282   \n",
              "3               1        1        0  ...                 7.648981  125640   \n",
              "4               1        1        1  ...                 1.514821  160555   \n",
              "\n",
              "         BMI  Triglycerides  Physical Activity Days Per Week  \\\n",
              "0  31.251233            286                                0   \n",
              "1  27.194973            235                                1   \n",
              "2  28.176571            587                                4   \n",
              "3  36.464704            378                                3   \n",
              "4  21.809144            231                                1   \n",
              "\n",
              "   Sleep Hours Per Day    Country      Continent           Hemisphere  \\\n",
              "0                    6  Argentina  South America  Southern Hemisphere   \n",
              "1                    7     Canada  North America  Northern Hemisphere   \n",
              "2                    4     France         Europe  Northern Hemisphere   \n",
              "3                    4     Canada  North America  Northern Hemisphere   \n",
              "4                    5   Thailand           Asia  Northern Hemisphere   \n",
              "\n",
              "   Heart Attack Risk  \n",
              "0                  0  \n",
              "1                  0  \n",
              "2                  0  \n",
              "3                  0  \n",
              "4                  0  \n",
              "\n",
              "[5 rows x 26 columns]"
            ],
            "text/html": [
              "\n",
              "  <div id=\"df-11e2bf76-d020-4f70-8119-3b3c17e77fa2\" class=\"colab-df-container\">\n",
              "    <div>\n",
              "<style scoped>\n",
              "    .dataframe tbody tr th:only-of-type {\n",
              "        vertical-align: middle;\n",
              "    }\n",
              "\n",
              "    .dataframe tbody tr th {\n",
              "        vertical-align: top;\n",
              "    }\n",
              "\n",
              "    .dataframe thead th {\n",
              "        text-align: right;\n",
              "    }\n",
              "</style>\n",
              "<table border=\"1\" class=\"dataframe\">\n",
              "  <thead>\n",
              "    <tr style=\"text-align: right;\">\n",
              "      <th></th>\n",
              "      <th>Patient ID</th>\n",
              "      <th>Age</th>\n",
              "      <th>Sex</th>\n",
              "      <th>Cholesterol</th>\n",
              "      <th>Blood Pressure</th>\n",
              "      <th>Heart Rate</th>\n",
              "      <th>Diabetes</th>\n",
              "      <th>Family History</th>\n",
              "      <th>Smoking</th>\n",
              "      <th>Obesity</th>\n",
              "      <th>...</th>\n",
              "      <th>Sedentary Hours Per Day</th>\n",
              "      <th>Income</th>\n",
              "      <th>BMI</th>\n",
              "      <th>Triglycerides</th>\n",
              "      <th>Physical Activity Days Per Week</th>\n",
              "      <th>Sleep Hours Per Day</th>\n",
              "      <th>Country</th>\n",
              "      <th>Continent</th>\n",
              "      <th>Hemisphere</th>\n",
              "      <th>Heart Attack Risk</th>\n",
              "    </tr>\n",
              "  </thead>\n",
              "  <tbody>\n",
              "    <tr>\n",
              "      <th>0</th>\n",
              "      <td>BMW7812</td>\n",
              "      <td>67</td>\n",
              "      <td>Male</td>\n",
              "      <td>208</td>\n",
              "      <td>158/88</td>\n",
              "      <td>72</td>\n",
              "      <td>0</td>\n",
              "      <td>0</td>\n",
              "      <td>1</td>\n",
              "      <td>0</td>\n",
              "      <td>...</td>\n",
              "      <td>6.615001</td>\n",
              "      <td>261404</td>\n",
              "      <td>31.251233</td>\n",
              "      <td>286</td>\n",
              "      <td>0</td>\n",
              "      <td>6</td>\n",
              "      <td>Argentina</td>\n",
              "      <td>South America</td>\n",
              "      <td>Southern Hemisphere</td>\n",
              "      <td>0</td>\n",
              "    </tr>\n",
              "    <tr>\n",
              "      <th>1</th>\n",
              "      <td>CZE1114</td>\n",
              "      <td>21</td>\n",
              "      <td>Male</td>\n",
              "      <td>389</td>\n",
              "      <td>165/93</td>\n",
              "      <td>98</td>\n",
              "      <td>1</td>\n",
              "      <td>1</td>\n",
              "      <td>1</td>\n",
              "      <td>1</td>\n",
              "      <td>...</td>\n",
              "      <td>4.963459</td>\n",
              "      <td>285768</td>\n",
              "      <td>27.194973</td>\n",
              "      <td>235</td>\n",
              "      <td>1</td>\n",
              "      <td>7</td>\n",
              "      <td>Canada</td>\n",
              "      <td>North America</td>\n",
              "      <td>Northern Hemisphere</td>\n",
              "      <td>0</td>\n",
              "    </tr>\n",
              "    <tr>\n",
              "      <th>2</th>\n",
              "      <td>BNI9906</td>\n",
              "      <td>21</td>\n",
              "      <td>Female</td>\n",
              "      <td>324</td>\n",
              "      <td>174/99</td>\n",
              "      <td>72</td>\n",
              "      <td>1</td>\n",
              "      <td>0</td>\n",
              "      <td>0</td>\n",
              "      <td>0</td>\n",
              "      <td>...</td>\n",
              "      <td>9.463426</td>\n",
              "      <td>235282</td>\n",
              "      <td>28.176571</td>\n",
              "      <td>587</td>\n",
              "      <td>4</td>\n",
              "      <td>4</td>\n",
              "      <td>France</td>\n",
              "      <td>Europe</td>\n",
              "      <td>Northern Hemisphere</td>\n",
              "      <td>0</td>\n",
              "    </tr>\n",
              "    <tr>\n",
              "      <th>3</th>\n",
              "      <td>JLN3497</td>\n",
              "      <td>84</td>\n",
              "      <td>Male</td>\n",
              "      <td>383</td>\n",
              "      <td>163/100</td>\n",
              "      <td>73</td>\n",
              "      <td>1</td>\n",
              "      <td>1</td>\n",
              "      <td>1</td>\n",
              "      <td>0</td>\n",
              "      <td>...</td>\n",
              "      <td>7.648981</td>\n",
              "      <td>125640</td>\n",
              "      <td>36.464704</td>\n",
              "      <td>378</td>\n",
              "      <td>3</td>\n",
              "      <td>4</td>\n",
              "      <td>Canada</td>\n",
              "      <td>North America</td>\n",
              "      <td>Northern Hemisphere</td>\n",
              "      <td>0</td>\n",
              "    </tr>\n",
              "    <tr>\n",
              "      <th>4</th>\n",
              "      <td>GFO8847</td>\n",
              "      <td>66</td>\n",
              "      <td>Male</td>\n",
              "      <td>318</td>\n",
              "      <td>91/88</td>\n",
              "      <td>93</td>\n",
              "      <td>1</td>\n",
              "      <td>1</td>\n",
              "      <td>1</td>\n",
              "      <td>1</td>\n",
              "      <td>...</td>\n",
              "      <td>1.514821</td>\n",
              "      <td>160555</td>\n",
              "      <td>21.809144</td>\n",
              "      <td>231</td>\n",
              "      <td>1</td>\n",
              "      <td>5</td>\n",
              "      <td>Thailand</td>\n",
              "      <td>Asia</td>\n",
              "      <td>Northern Hemisphere</td>\n",
              "      <td>0</td>\n",
              "    </tr>\n",
              "  </tbody>\n",
              "</table>\n",
              "<p>5 rows × 26 columns</p>\n",
              "</div>\n",
              "    <div class=\"colab-df-buttons\">\n",
              "\n",
              "  <div class=\"colab-df-container\">\n",
              "    <button class=\"colab-df-convert\" onclick=\"convertToInteractive('df-11e2bf76-d020-4f70-8119-3b3c17e77fa2')\"\n",
              "            title=\"Convert this dataframe to an interactive table.\"\n",
              "            style=\"display:none;\">\n",
              "\n",
              "  <svg xmlns=\"http://www.w3.org/2000/svg\" height=\"24px\" viewBox=\"0 -960 960 960\">\n",
              "    <path d=\"M120-120v-720h720v720H120Zm60-500h600v-160H180v160Zm220 220h160v-160H400v160Zm0 220h160v-160H400v160ZM180-400h160v-160H180v160Zm440 0h160v-160H620v160ZM180-180h160v-160H180v160Zm440 0h160v-160H620v160Z\"/>\n",
              "  </svg>\n",
              "    </button>\n",
              "\n",
              "  <style>\n",
              "    .colab-df-container {\n",
              "      display:flex;\n",
              "      gap: 12px;\n",
              "    }\n",
              "\n",
              "    .colab-df-convert {\n",
              "      background-color: #E8F0FE;\n",
              "      border: none;\n",
              "      border-radius: 50%;\n",
              "      cursor: pointer;\n",
              "      display: none;\n",
              "      fill: #1967D2;\n",
              "      height: 32px;\n",
              "      padding: 0 0 0 0;\n",
              "      width: 32px;\n",
              "    }\n",
              "\n",
              "    .colab-df-convert:hover {\n",
              "      background-color: #E2EBFA;\n",
              "      box-shadow: 0px 1px 2px rgba(60, 64, 67, 0.3), 0px 1px 3px 1px rgba(60, 64, 67, 0.15);\n",
              "      fill: #174EA6;\n",
              "    }\n",
              "\n",
              "    .colab-df-buttons div {\n",
              "      margin-bottom: 4px;\n",
              "    }\n",
              "\n",
              "    [theme=dark] .colab-df-convert {\n",
              "      background-color: #3B4455;\n",
              "      fill: #D2E3FC;\n",
              "    }\n",
              "\n",
              "    [theme=dark] .colab-df-convert:hover {\n",
              "      background-color: #434B5C;\n",
              "      box-shadow: 0px 1px 3px 1px rgba(0, 0, 0, 0.15);\n",
              "      filter: drop-shadow(0px 1px 2px rgba(0, 0, 0, 0.3));\n",
              "      fill: #FFFFFF;\n",
              "    }\n",
              "  </style>\n",
              "\n",
              "    <script>\n",
              "      const buttonEl =\n",
              "        document.querySelector('#df-11e2bf76-d020-4f70-8119-3b3c17e77fa2 button.colab-df-convert');\n",
              "      buttonEl.style.display =\n",
              "        google.colab.kernel.accessAllowed ? 'block' : 'none';\n",
              "\n",
              "      async function convertToInteractive(key) {\n",
              "        const element = document.querySelector('#df-11e2bf76-d020-4f70-8119-3b3c17e77fa2');\n",
              "        const dataTable =\n",
              "          await google.colab.kernel.invokeFunction('convertToInteractive',\n",
              "                                                    [key], {});\n",
              "        if (!dataTable) return;\n",
              "\n",
              "        const docLinkHtml = 'Like what you see? Visit the ' +\n",
              "          '<a target=\"_blank\" href=https://colab.research.google.com/notebooks/data_table.ipynb>data table notebook</a>'\n",
              "          + ' to learn more about interactive tables.';\n",
              "        element.innerHTML = '';\n",
              "        dataTable['output_type'] = 'display_data';\n",
              "        await google.colab.output.renderOutput(dataTable, element);\n",
              "        const docLink = document.createElement('div');\n",
              "        docLink.innerHTML = docLinkHtml;\n",
              "        element.appendChild(docLink);\n",
              "      }\n",
              "    </script>\n",
              "  </div>\n",
              "\n",
              "\n",
              "<div id=\"df-2e2c1959-c2e7-48ac-adf5-bab9121d8bb9\">\n",
              "  <button class=\"colab-df-quickchart\" onclick=\"quickchart('df-2e2c1959-c2e7-48ac-adf5-bab9121d8bb9')\"\n",
              "            title=\"Suggest charts\"\n",
              "            style=\"display:none;\">\n",
              "\n",
              "<svg xmlns=\"http://www.w3.org/2000/svg\" height=\"24px\"viewBox=\"0 0 24 24\"\n",
              "     width=\"24px\">\n",
              "    <g>\n",
              "        <path d=\"M19 3H5c-1.1 0-2 .9-2 2v14c0 1.1.9 2 2 2h14c1.1 0 2-.9 2-2V5c0-1.1-.9-2-2-2zM9 17H7v-7h2v7zm4 0h-2V7h2v10zm4 0h-2v-4h2v4z\"/>\n",
              "    </g>\n",
              "</svg>\n",
              "  </button>\n",
              "\n",
              "<style>\n",
              "  .colab-df-quickchart {\n",
              "      --bg-color: #E8F0FE;\n",
              "      --fill-color: #1967D2;\n",
              "      --hover-bg-color: #E2EBFA;\n",
              "      --hover-fill-color: #174EA6;\n",
              "      --disabled-fill-color: #AAA;\n",
              "      --disabled-bg-color: #DDD;\n",
              "  }\n",
              "\n",
              "  [theme=dark] .colab-df-quickchart {\n",
              "      --bg-color: #3B4455;\n",
              "      --fill-color: #D2E3FC;\n",
              "      --hover-bg-color: #434B5C;\n",
              "      --hover-fill-color: #FFFFFF;\n",
              "      --disabled-bg-color: #3B4455;\n",
              "      --disabled-fill-color: #666;\n",
              "  }\n",
              "\n",
              "  .colab-df-quickchart {\n",
              "    background-color: var(--bg-color);\n",
              "    border: none;\n",
              "    border-radius: 50%;\n",
              "    cursor: pointer;\n",
              "    display: none;\n",
              "    fill: var(--fill-color);\n",
              "    height: 32px;\n",
              "    padding: 0;\n",
              "    width: 32px;\n",
              "  }\n",
              "\n",
              "  .colab-df-quickchart:hover {\n",
              "    background-color: var(--hover-bg-color);\n",
              "    box-shadow: 0 1px 2px rgba(60, 64, 67, 0.3), 0 1px 3px 1px rgba(60, 64, 67, 0.15);\n",
              "    fill: var(--button-hover-fill-color);\n",
              "  }\n",
              "\n",
              "  .colab-df-quickchart-complete:disabled,\n",
              "  .colab-df-quickchart-complete:disabled:hover {\n",
              "    background-color: var(--disabled-bg-color);\n",
              "    fill: var(--disabled-fill-color);\n",
              "    box-shadow: none;\n",
              "  }\n",
              "\n",
              "  .colab-df-spinner {\n",
              "    border: 2px solid var(--fill-color);\n",
              "    border-color: transparent;\n",
              "    border-bottom-color: var(--fill-color);\n",
              "    animation:\n",
              "      spin 1s steps(1) infinite;\n",
              "  }\n",
              "\n",
              "  @keyframes spin {\n",
              "    0% {\n",
              "      border-color: transparent;\n",
              "      border-bottom-color: var(--fill-color);\n",
              "      border-left-color: var(--fill-color);\n",
              "    }\n",
              "    20% {\n",
              "      border-color: transparent;\n",
              "      border-left-color: var(--fill-color);\n",
              "      border-top-color: var(--fill-color);\n",
              "    }\n",
              "    30% {\n",
              "      border-color: transparent;\n",
              "      border-left-color: var(--fill-color);\n",
              "      border-top-color: var(--fill-color);\n",
              "      border-right-color: var(--fill-color);\n",
              "    }\n",
              "    40% {\n",
              "      border-color: transparent;\n",
              "      border-right-color: var(--fill-color);\n",
              "      border-top-color: var(--fill-color);\n",
              "    }\n",
              "    60% {\n",
              "      border-color: transparent;\n",
              "      border-right-color: var(--fill-color);\n",
              "    }\n",
              "    80% {\n",
              "      border-color: transparent;\n",
              "      border-right-color: var(--fill-color);\n",
              "      border-bottom-color: var(--fill-color);\n",
              "    }\n",
              "    90% {\n",
              "      border-color: transparent;\n",
              "      border-bottom-color: var(--fill-color);\n",
              "    }\n",
              "  }\n",
              "</style>\n",
              "\n",
              "  <script>\n",
              "    async function quickchart(key) {\n",
              "      const quickchartButtonEl =\n",
              "        document.querySelector('#' + key + ' button');\n",
              "      quickchartButtonEl.disabled = true;  // To prevent multiple clicks.\n",
              "      quickchartButtonEl.classList.add('colab-df-spinner');\n",
              "      try {\n",
              "        const charts = await google.colab.kernel.invokeFunction(\n",
              "            'suggestCharts', [key], {});\n",
              "      } catch (error) {\n",
              "        console.error('Error during call to suggestCharts:', error);\n",
              "      }\n",
              "      quickchartButtonEl.classList.remove('colab-df-spinner');\n",
              "      quickchartButtonEl.classList.add('colab-df-quickchart-complete');\n",
              "    }\n",
              "    (() => {\n",
              "      let quickchartButtonEl =\n",
              "        document.querySelector('#df-2e2c1959-c2e7-48ac-adf5-bab9121d8bb9 button');\n",
              "      quickchartButtonEl.style.display =\n",
              "        google.colab.kernel.accessAllowed ? 'block' : 'none';\n",
              "    })();\n",
              "  </script>\n",
              "</div>\n",
              "\n",
              "    </div>\n",
              "  </div>\n"
            ],
            "application/vnd.google.colaboratory.intrinsic+json": {
              "type": "dataframe",
              "variable_name": "hap"
            }
          },
          "metadata": {},
          "execution_count": 5
        }
      ],
      "source": [
        "#visualizamos el dataframe > filas&columnas para inspeccionar\n",
        "hap.head()"
      ]
    },
    {
      "cell_type": "code",
      "execution_count": null,
      "id": "644dc2ca-0102-4690-a2e8-5671b6195c32",
      "metadata": {
        "colab": {
          "base_uri": "https://localhost:8080/"
        },
        "id": "644dc2ca-0102-4690-a2e8-5671b6195c32",
        "outputId": "504ca9b0-a26d-431e-a675-b1674aafb704"
      },
      "outputs": [
        {
          "output_type": "stream",
          "name": "stdout",
          "text": [
            "Número de filas: 8763\n",
            "Número de columnas: 26\n"
          ]
        }
      ],
      "source": [
        "#cantidad de filas y columnas\n",
        "num_filas, num_columnas = hap.shape\n",
        "print(\"Número de filas:\", num_filas)\n",
        "print(\"Número de columnas:\", num_columnas)"
      ]
    },
    {
      "cell_type": "code",
      "execution_count": null,
      "id": "606de859-69f2-4d26-b995-78338e4fe701",
      "metadata": {
        "id": "606de859-69f2-4d26-b995-78338e4fe701"
      },
      "outputs": [],
      "source": [
        "# Eliminamos filas con valores nulos para limpieza inicial\n",
        "hap = hap.dropna()"
      ]
    },
    {
      "cell_type": "code",
      "execution_count": null,
      "id": "22bcce48-6652-44dd-8652-026b16082aba",
      "metadata": {
        "colab": {
          "base_uri": "https://localhost:8080/"
        },
        "id": "22bcce48-6652-44dd-8652-026b16082aba",
        "outputId": "ec91a2c2-89da-4561-ab4e-5f248063b99e"
      },
      "outputs": [
        {
          "output_type": "execute_result",
          "data": {
            "text/plain": [
              "Patient ID                          object\n",
              "Age                                  int64\n",
              "Sex                                 object\n",
              "Cholesterol                          int64\n",
              "Blood Pressure                      object\n",
              "Heart Rate                           int64\n",
              "Diabetes                             int64\n",
              "Family History                       int64\n",
              "Smoking                              int64\n",
              "Obesity                              int64\n",
              "Alcohol Consumption                  int64\n",
              "Exercise Hours Per Week            float64\n",
              "Diet                                object\n",
              "Previous Heart Problems              int64\n",
              "Medication Use                       int64\n",
              "Stress Level                         int64\n",
              "Sedentary Hours Per Day            float64\n",
              "Income                               int64\n",
              "BMI                                float64\n",
              "Triglycerides                        int64\n",
              "Physical Activity Days Per Week      int64\n",
              "Sleep Hours Per Day                  int64\n",
              "Country                             object\n",
              "Continent                           object\n",
              "Hemisphere                          object\n",
              "Heart Attack Risk                    int64\n",
              "dtype: object"
            ]
          },
          "metadata": {},
          "execution_count": 8
        }
      ],
      "source": [
        "#Chequeamos que los tipos de datos sean correctos\n",
        "hap.dtypes"
      ]
    },
    {
      "cell_type": "code",
      "execution_count": null,
      "id": "10434e19-ceb2-40e8-a1e2-a7b24736de8f",
      "metadata": {
        "colab": {
          "base_uri": "https://localhost:8080/"
        },
        "id": "10434e19-ceb2-40e8-a1e2-a7b24736de8f",
        "outputId": "e80f178b-087b-4d79-ecde-cfeb0be8732f"
      },
      "outputs": [
        {
          "output_type": "execute_result",
          "data": {
            "text/plain": [
              "Index(['ID Paciente', 'Edad', 'Sexo', 'Colesterol', 'Presión Arterial',\n",
              "       'Ritmo Cardíaco', 'Diabetes', 'Historial Familiar', 'Fumar', 'Obesidad',\n",
              "       'Consumo de Alcohol', 'Horas de ejercicio por semana', 'Dieta',\n",
              "       'Problemas Cardíacos Previos', 'Uso de Medicamentos', 'Nivel de Estrés',\n",
              "       'Horas de Sedentarismo por Día', 'Ingreso', 'IMC', 'Triglicéridos',\n",
              "       'Días de Actividad Física por Semana', 'Horas de Sueño por Día', 'País',\n",
              "       'Continente', 'Hemisferio', 'Riesgo de Ataque Cardíaco'],\n",
              "      dtype='object')"
            ]
          },
          "metadata": {},
          "execution_count": 9
        }
      ],
      "source": [
        "#reemplazamos nombres de columnas en español\n",
        "hap.columns = ['ID Paciente', 'Edad', 'Sexo', 'Colesterol', 'Presión Arterial', 'Ritmo Cardíaco' , 'Diabetes', 'Historial Familiar', 'Fumar', 'Obesidad', 'Consumo de Alcohol', 'Horas de ejercicio por semana', 'Dieta','Problemas Cardíacos Previos','Uso de Medicamentos', 'Nivel de Estrés', 'Horas de Sedentarismo por Día', 'Ingreso', 'IMC', 'Triglicéridos', 'Días de Actividad Física por Semana','Horas de Sueño por Día', 'País', 'Continente', 'Hemisferio', 'Riesgo de Ataque Cardíaco'] #reemplazo directo\n",
        "hap.columns"
      ]
    },
    {
      "cell_type": "markdown",
      "id": "72fe0e15-9d2b-4ac1-941c-2f4e7a052583",
      "metadata": {
        "id": "72fe0e15-9d2b-4ac1-941c-2f4e7a052583"
      },
      "source": [
        "#### >> Empezamos a visualizar los datos para analizarlos mejor"
      ]
    },
    {
      "cell_type": "code",
      "execution_count": null,
      "id": "6ea1f485-3cac-4723-83f0-474205b0e343",
      "metadata": {
        "colab": {
          "base_uri": "https://localhost:8080/",
          "height": 472
        },
        "id": "6ea1f485-3cac-4723-83f0-474205b0e343",
        "outputId": "b4cf66d4-12ba-4247-8ff3-70302e0dd144"
      },
      "outputs": [
        {
          "output_type": "display_data",
          "data": {
            "text/plain": [
              "<Figure size 640x480 with 1 Axes>"
            ],
            "image/png": "[encoded data removed]"
          },
          "metadata": {}
        }
      ],
      "source": [
        "# Países con mayor Riesgo de Ataques Cardíacos\n",
        "# 1. contar la cantidad de paises totales para mostrar en 'Y'\n",
        "# 2. sumar la cantidad de 'Riesgo de Ataque Cardíaco' por 'País'\n",
        "# 3. mostrar los paises que tienen mayores valores en un top 5\n",
        "\n",
        "count_country = hap[\"País\"].value_counts()\n",
        "sum_har = hap.groupby(\"País\")[\"Riesgo de Ataque Cardíaco\"].sum()\n",
        "top_countries = sum_har.nlargest(5) # muestra el top 5 valores máx\n",
        "\n",
        "plt.bar(top_countries.index,top_countries.values)\n",
        "plt.xlabel(\"Países\")\n",
        "plt.ylabel(\"Recuento\")\n",
        "plt.title(\"Países con Mayor Riesgo de Ataques Cardíacos\")\n",
        "plt.show()"
      ]
    },
    {
      "cell_type": "markdown",
      "id": "4414f7ea-d288-428f-8d21-027e740601ee",
      "metadata": {
        "id": "4414f7ea-d288-428f-8d21-027e740601ee"
      },
      "source": [
        "#### >> A partir del gráfico anterior, notamos que Argentina está en el 2do puesto de los países con mayor riesgo de ataques cardíacos. Vamos a seguir filtrando los datos a partir de Argentina para seguir analizando el resto de las variables"
      ]
    },
    {
      "cell_type": "code",
      "execution_count": null,
      "id": "1e352dfc-2164-4215-8128-317b596d9c20",
      "metadata": {
        "colab": {
          "base_uri": "https://localhost:8080/"
        },
        "id": "1e352dfc-2164-4215-8128-317b596d9c20",
        "outputId": "6a110d75-4a0e-463e-9420-506a59199e94"
      },
      "outputs": [
        {
          "output_type": "stream",
          "name": "stdout",
          "text": [
            "   ID Paciente  Edad    Sexo  Colesterol Presión Arterial  Ritmo Cardíaco  \\\n",
            "0      BMW7812    67    Male         208           158/88              72   \n",
            "30     SLE3369    27  Female         135           120/77              49   \n",
            "36     IUJ5442    27  Female         263          127/109              83   \n",
            "37     BSV5917    29  Female         201           134/60              86   \n",
            "46     QWD3129    51    Male         197          106/106              79   \n",
            "\n",
            "    Diabetes  Historial Familiar  Fumar  Obesidad  ...  \\\n",
            "0          0                   0      1         0  ...   \n",
            "30         1                   1      0         0  ...   \n",
            "36         0                   1      0         0  ...   \n",
            "37         0                   0      0         1  ...   \n",
            "46         1                   1      1         1  ...   \n",
            "\n",
            "    Horas de Sedentarismo por Día  Ingreso        IMC  Triglicéridos  \\\n",
            "0                        6.615001   261404  31.251233            286   \n",
            "30                       9.120329    71276  22.778859            297   \n",
            "36                       9.362786   264135  39.844145            411   \n",
            "37                      10.965517   138186  33.787685            785   \n",
            "46                       1.539100   257061  24.669971            785   \n",
            "\n",
            "    Días de Actividad Física por Semana  Horas de Sueño por Día       País  \\\n",
            "0                                     0                       6  Argentina   \n",
            "30                                    1                      10  Argentina   \n",
            "36                                    2                       9  Argentina   \n",
            "37                                    0                      10  Argentina   \n",
            "46                                    1                       5  Argentina   \n",
            "\n",
            "       Continente           Hemisferio  Riesgo de Ataque Cardíaco  \n",
            "0   South America  Southern Hemisphere                          0  \n",
            "30  South America  Southern Hemisphere                          1  \n",
            "36  South America  Southern Hemisphere                          0  \n",
            "37  South America  Southern Hemisphere                          0  \n",
            "46  South America  Southern Hemisphere                          0  \n",
            "\n",
            "[5 rows x 26 columns]\n"
          ]
        }
      ],
      "source": [
        "#Filtrar datos por país\n",
        "data_arg = hap[hap['País'] == 'Argentina']\n",
        "\n",
        "#Inspeccionar el subconjunto filtrado\n",
        "print(data_arg.head())"
      ]
    },
    {
      "cell_type": "markdown",
      "id": "03e6e997-7e00-4a77-92f2-c7158c2579af",
      "metadata": {
        "id": "03e6e997-7e00-4a77-92f2-c7158c2579af"
      },
      "source": [
        "#### >> Según investigaciones, existe una predisposición masculina a sufrir infartos debido a la forma de afrontar el estrés, un aumento de la presión arterial y una intensificación de los malos hábitos alimentarios. El siguiente gráfico demuestra esta propensión a sufrir problemas cardíacos en los hombres, ya que en la encuesta, más de la mitad de ellos son propensos."
      ]
    },
    {
      "cell_type": "code",
      "execution_count": null,
      "id": "4b580d86-c085-4871-967e-7c9c70f7551c",
      "metadata": {
        "colab": {
          "base_uri": "https://localhost:8080/",
          "height": 429
        },
        "id": "4b580d86-c085-4871-967e-7c9c70f7551c",
        "outputId": "44ca2330-75f8-47e2-ee80-33d2029c89c3"
      },
      "outputs": [
        {
          "output_type": "display_data",
          "data": {
            "text/plain": [
              "<Figure size 640x480 with 1 Axes>"
            ],
            "image/png": "[encoded data removed]"
          },
          "metadata": {}
        }
      ],
      "source": [
        "male_risk = data_arg[(data_arg['Sexo'] == 'Male') & (data_arg['Riesgo de Ataque Cardíaco'] == 1)].shape[0]\n",
        "female_risk = data_arg[(data_arg['Sexo'] == 'Female') & (data_arg['Riesgo de Ataque Cardíaco'] == 1)].shape[0]\n",
        "\n",
        "sex = [\"Masculino\", \"Femenino\"]\n",
        "data = [male_risk, female_risk]\n",
        "\n",
        "\n",
        "plt.pie(data, labels=sex, autopct='%1.1f%%', startangle=90)\n",
        "plt.axis('equal')\n",
        "plt.rcParams['figure.figsize'] = (5, 5)\n",
        "plt.title('Riesgo de Ataque Cardíaco por Sexo')\n",
        "plt.show()"
      ]
    },
    {
      "cell_type": "markdown",
      "id": "83ff8934-b33a-4a30-9659-fc94ebfb4b5c",
      "metadata": {
        "id": "83ff8934-b33a-4a30-9659-fc94ebfb4b5c"
      },
      "source": [
        "#### >> Entre los factores de riesgo de un ataque cardíaco, se incluyen los siguientes: Edad. Los hombres mayores de 45 años y las mujeres mayores de 55 años tienen una mayor probabilidad de tener un ataque cardíaco que los hombres y las mujeres más jóvenes."
      ]
    },
    {
      "cell_type": "code",
      "execution_count": null,
      "id": "1a394815-e4fb-4736-944b-20fe6ae77c59",
      "metadata": {
        "colab": {
          "base_uri": "https://localhost:8080/"
        },
        "id": "1a394815-e4fb-4736-944b-20fe6ae77c59",
        "outputId": "1fe509d4-7876-4dac-cf5f-8c97af77c3c5"
      },
      "outputs": [
        {
          "output_type": "stream",
          "name": "stdout",
          "text": [
            "     ID Paciente  Edad    Sexo  Colesterol Presión Arterial  Ritmo Cardíaco  \\\n",
            "30       SLE3369    27  Female         135           120/77              49   \n",
            "101      SIQ8677    39    Male         326          155/104              47   \n",
            "124      ELD0719    60    Male         338           149/69              96   \n",
            "176      PQR7571    41    Male         178           123/91              64   \n",
            "192      KLT7600    53    Male         136           135/92              65   \n",
            "...          ...   ...     ...         ...              ...             ...   \n",
            "8414     KKQ7177    49    Male         192           105/90              71   \n",
            "8415     RCX4722    55    Male         332           117/77             108   \n",
            "8469     QJM4342    83    Male         265           156/88              50   \n",
            "8603     AVD8579    86    Male         293          160/107              92   \n",
            "8754     LZM3606    80  Female         383           153/96              91   \n",
            "\n",
            "      Diabetes  Historial Familiar  Fumar  Obesidad  ...  Ingreso        IMC  \\\n",
            "30           1                   1      0         0  ...    71276  22.778859   \n",
            "101          1                   0      1         0  ...   171416  22.545418   \n",
            "124          1                   1      1         0  ...   186453  33.854204   \n",
            "176          1                   1      1         0  ...   255891  25.092660   \n",
            "192          1                   1      1         1  ...   101399  35.139426   \n",
            "...        ...                 ...    ...       ...  ...      ...        ...   \n",
            "8414         1                   0      1         1  ...    52605  21.958720   \n",
            "8415         0                   1      1         0  ...    28280  38.563741   \n",
            "8469         1                   1      1         0  ...    27089  24.717053   \n",
            "8603         1                   1      1         1  ...   237708  29.952525   \n",
            "8754         1                   1      1         0  ...   101341  20.490450   \n",
            "\n",
            "     Triglicéridos  Días de Actividad Física por Semana  \\\n",
            "30             297                                    1   \n",
            "101            468                                    2   \n",
            "124            385                                    0   \n",
            "176            717                                    5   \n",
            "192             52                                    3   \n",
            "...            ...                                  ...   \n",
            "8414           331                                    2   \n",
            "8415           652                                    0   \n",
            "8469           731                                    1   \n",
            "8603           474                                    6   \n",
            "8754           174                                    3   \n",
            "\n",
            "      Horas de Sueño por Día       País     Continente           Hemisferio  \\\n",
            "30                        10  Argentina  South America  Southern Hemisphere   \n",
            "101                        8  Argentina  South America  Southern Hemisphere   \n",
            "124                        8  Argentina  South America  Southern Hemisphere   \n",
            "176                        5  Argentina  South America  Southern Hemisphere   \n",
            "192                        9  Argentina  South America  Southern Hemisphere   \n",
            "...                      ...        ...            ...                  ...   \n",
            "8414                       5  Argentina  South America  Southern Hemisphere   \n",
            "8415                       7  Argentina  South America  Southern Hemisphere   \n",
            "8469                       5  Argentina  South America  Southern Hemisphere   \n",
            "8603                       6  Argentina  South America  Southern Hemisphere   \n",
            "8754                       4  Argentina  South America  Southern Hemisphere   \n",
            "\n",
            "      Riesgo de Ataque Cardíaco  Categoría de Edad  \n",
            "30                            1              20-29  \n",
            "101                           1              30-39  \n",
            "124                           1              60-69  \n",
            "176                           1              40-49  \n",
            "192                           1              50-59  \n",
            "...                         ...                ...  \n",
            "8414                          1              40-49  \n",
            "8415                          1              50-59  \n",
            "8469                          1              80-89  \n",
            "8603                          1              80-89  \n",
            "8754                          1              80-89  \n",
            "\n",
            "[174 rows x 27 columns]\n"
          ]
        },
        {
          "output_type": "stream",
          "name": "stderr",
          "text": [
            "<ipython-input-13-64480c93379c>:9: SettingWithCopyWarning: \n",
            "A value is trying to be set on a copy of a slice from a DataFrame.\n",
            "Try using .loc[row_indexer,col_indexer] = value instead\n",
            "\n",
            "See the caveats in the documentation: https://pandas.pydata.org/pandas-docs/stable/user_guide/indexing.html#returning-a-view-versus-a-copy\n",
            "  data_arg_risk_1['Categoría de Edad'] = pd.cut(data_arg_risk_1['Edad'], bins=bins, labels=labels, right=False)\n"
          ]
        }
      ],
      "source": [
        "#Crear categorías de edades para mostrar en el gráfico\n",
        "bins = range(0,101,10) #rango de 0 a 100, agrupando de 10 en 10 años\n",
        "labels = [f'{i}-{i+9}' for i in range (0,100,10)]\n",
        "\n",
        "#Definimos data_risk_1 para los datos en Argentina con riesgo de infarto = 1\n",
        "data_arg_risk_1 = data_arg[data_arg['Riesgo de Ataque Cardíaco'] == 1]\n",
        "\n",
        "#Creamos una nueva columna en el Dataframe para las categorías de edad usando pd.cut\n",
        "data_arg_risk_1['Categoría de Edad'] = pd.cut(data_arg_risk_1['Edad'], bins=bins, labels=labels, right=False)\n",
        "\n",
        "#Mostrar el dataframe resultante\n",
        "print(data_arg_risk_1)"
      ]
    },
    {
      "cell_type": "code",
      "execution_count": null,
      "id": "4298df69-a81d-4290-aa28-579365334bfa",
      "metadata": {
        "colab": {
          "base_uri": "https://localhost:8080/",
          "height": 703
        },
        "id": "4298df69-a81d-4290-aa28-579365334bfa",
        "outputId": "9c9b1c96-1b13-41b8-c2dd-f23577bf247c"
      },
      "outputs": [
        {
          "output_type": "display_data",
          "data": {
            "text/plain": [
              "<Figure size 1200x800 with 1 Axes>"
            ],
            "image/png": "[encoded data removed]"
          },
          "metadata": {}
        }
      ],
      "source": [
        "#Calcular la frecuencia del riesgo de infarto por categoría de edad\n",
        "freq_por_edad = data_arg_risk_1['Categoría de Edad'].value_counts().sort_index()\n",
        "\n",
        "#Visualización de la frecuencia del riesgo de infarto por categoría de edad con gráfico de línea continua\n",
        "plt.figure(figsize=(12, 8))\n",
        "plt.plot(freq_por_edad.index, freq_por_edad.values, marker='o', color='blue', linestyle='-')\n",
        "plt.xlabel('Categoría de Edad')\n",
        "plt.ylabel('Frecuencia')\n",
        "plt.title('Frecuencia del Riesgo de Infarto (Riesgo = 1) por Categoría de Edad en Argentina')\n",
        "plt.xticks(rotation=45)\n",
        "plt.grid(True)\n",
        "plt.show()"
      ]
    }
  ],
  "metadata": {
    "kernelspec": {
      "display_name": "Python 3 (ipykernel)",
      "language": "python",
      "name": "python3"
    },
    "language_info": {
      "codemirror_mode": {
        "name": "ipython",
        "version": 3
      },
      "file_extension": ".py",
      "mimetype": "text/x-python",
      "name": "python",
      "nbconvert_exporter": "python",
      "pygments_lexer": "ipython3",
      "version": "3.11.7"
    },
    "colab": {
      "provenance": [],
      "include_colab_link": true
    }
  },
  "nbformat": 4,
  "nbformat_minor": 5
}